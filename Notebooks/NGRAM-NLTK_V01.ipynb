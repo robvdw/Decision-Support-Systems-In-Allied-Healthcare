{
 "cells": [
  {
   "attachments": {
    "n_grams_demonstration.png": {
     "image/png": "[encoded data removed]"
    }
   },
   "cell_type": "markdown",
   "metadata": {},
   "source": [
    "# NLTK NGRAMs\n",
    "\n",
    "https://pypi.org/project/nltk/\n",
    "\n",
    "https://www.nltk.org/install.html\n",
    "\n",
    "\n",
    "![n_grams_demonstration.png](attachment:n_grams_demonstration.png)\n"
   ]
  },
  {
   "cell_type": "code",
   "execution_count": 1,
   "metadata": {},
   "outputs": [],
   "source": [
    "# INSTAL NLTK if not installed already\n",
    "\n",
    "#!pip install --user -U -q --verbose nltk"
   ]
  },
  {
   "cell_type": "code",
   "execution_count": 2,
   "metadata": {},
   "outputs": [
    {
     "name": "stdout",
     "output_type": "stream",
     "text": [
      "Enter the sentence:  We are ready to sit the monkeys down at their rigged typewriters.\n",
      "Enter the value of n: 3\n",
      "('We', 'are', 'ready')\n",
      "('are', 'ready', 'to')\n",
      "('ready', 'to', 'sit')\n",
      "('to', 'sit', 'the')\n",
      "('sit', 'the', 'monkeys')\n",
      "('the', 'monkeys', 'down')\n",
      "('monkeys', 'down', 'at')\n",
      "('down', 'at', 'their')\n",
      "('at', 'their', 'rigged')\n",
      "('their', 'rigged', 'typewriters.')\n"
     ]
    }
   ],
   "source": [
    "from nltk import ngrams\n",
    "sentence = input(\"Enter the sentence: \")\n",
    "n = int(input(\"Enter the value of n: \"))\n",
    "n_grams = ngrams(sentence.split(), n)\n",
    "for grams in n_grams:\n",
    "    print(grams)"
   ]
  },
  {
   "cell_type": "code",
   "execution_count": null,
   "metadata": {},
   "outputs": [],
   "source": []
  }
 ],
 "metadata": {
  "kernelspec": {
   "display_name": "Python 3",
   "language": "python",
   "name": "python3"
  },
  "language_info": {
   "codemirror_mode": {
    "name": "ipython",
    "version": 3
   },
   "file_extension": ".py",
   "mimetype": "text/x-python",
   "name": "python",
   "nbconvert_exporter": "python",
   "pygments_lexer": "ipython3",
   "version": "3.7.6"
  }
 },
 "nbformat": 4,
 "nbformat_minor": 4
}
